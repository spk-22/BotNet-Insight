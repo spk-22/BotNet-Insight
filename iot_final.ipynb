{
  "nbformat": 4,
  "nbformat_minor": 0,
  "metadata": {
    "colab": {
      "provenance": []
    },
    "kernelspec": {
      "name": "python3",
      "display_name": "Python 3"
    },
    "language_info": {
      "name": "python"
    }
  },
  "cells": [
    {
      "cell_type": "code",
      "execution_count": null,
      "metadata": {
        "colab": {
          "base_uri": "https://localhost:8080/"
        },
        "id": "cSpbm26T3Vbz",
        "outputId": "ec63dc1e-32b1-46ab-dabd-3d5291b75f5e"
      },
      "outputs": [
        {
          "output_type": "stream",
          "name": "stdout",
          "text": [
            "Requirement already satisfied: torch in /usr/local/lib/python3.11/dist-packages (2.6.0+cu124)\n",
            "Collecting torch-geometric\n",
            "  Downloading torch_geometric-2.6.1-py3-none-any.whl.metadata (63 kB)\n",
            "\u001b[2K     \u001b[90m━━━━━━━━━━━━━━━━━━━━━━━━━━━━━━━━━━━━━━━━\u001b[0m \u001b[32m63.1/63.1 kB\u001b[0m \u001b[31m1.8 MB/s\u001b[0m eta \u001b[36m0:00:00\u001b[0m\n",
            "\u001b[?25hRequirement already satisfied: scikit-learn in /usr/local/lib/python3.11/dist-packages (1.6.1)\n",
            "Requirement already satisfied: pandas in /usr/local/lib/python3.11/dist-packages (2.2.2)\n",
            "Requirement already satisfied: networkx in /usr/local/lib/python3.11/dist-packages (3.4.2)\n",
            "Requirement already satisfied: filelock in /usr/local/lib/python3.11/dist-packages (from torch) (3.18.0)\n",
            "Requirement already satisfied: typing-extensions>=4.10.0 in /usr/local/lib/python3.11/dist-packages (from torch) (4.13.2)\n",
            "Requirement already satisfied: jinja2 in /usr/local/lib/python3.11/dist-packages (from torch) (3.1.6)\n",
            "Requirement already satisfied: fsspec in /usr/local/lib/python3.11/dist-packages (from torch) (2025.3.2)\n",
            "Collecting nvidia-cuda-nvrtc-cu12==12.4.127 (from torch)\n",
            "  Downloading nvidia_cuda_nvrtc_cu12-12.4.127-py3-none-manylinux2014_x86_64.whl.metadata (1.5 kB)\n",
            "Collecting nvidia-cuda-runtime-cu12==12.4.127 (from torch)\n",
            "  Downloading nvidia_cuda_runtime_cu12-12.4.127-py3-none-manylinux2014_x86_64.whl.metadata (1.5 kB)\n",
            "Collecting nvidia-cuda-cupti-cu12==12.4.127 (from torch)\n",
            "  Downloading nvidia_cuda_cupti_cu12-12.4.127-py3-none-manylinux2014_x86_64.whl.metadata (1.6 kB)\n",
            "Collecting nvidia-cudnn-cu12==9.1.0.70 (from torch)\n",
            "  Downloading nvidia_cudnn_cu12-9.1.0.70-py3-none-manylinux2014_x86_64.whl.metadata (1.6 kB)\n",
            "Collecting nvidia-cublas-cu12==12.4.5.8 (from torch)\n",
            "  Downloading nvidia_cublas_cu12-12.4.5.8-py3-none-manylinux2014_x86_64.whl.metadata (1.5 kB)\n",
            "Collecting nvidia-cufft-cu12==11.2.1.3 (from torch)\n",
            "  Downloading nvidia_cufft_cu12-11.2.1.3-py3-none-manylinux2014_x86_64.whl.metadata (1.5 kB)\n",
            "Collecting nvidia-curand-cu12==10.3.5.147 (from torch)\n",
            "  Downloading nvidia_curand_cu12-10.3.5.147-py3-none-manylinux2014_x86_64.whl.metadata (1.5 kB)\n",
            "Collecting nvidia-cusolver-cu12==11.6.1.9 (from torch)\n",
            "  Downloading nvidia_cusolver_cu12-11.6.1.9-py3-none-manylinux2014_x86_64.whl.metadata (1.6 kB)\n",
            "Collecting nvidia-cusparse-cu12==12.3.1.170 (from torch)\n",
            "  Downloading nvidia_cusparse_cu12-12.3.1.170-py3-none-manylinux2014_x86_64.whl.metadata (1.6 kB)\n",
            "Requirement already satisfied: nvidia-cusparselt-cu12==0.6.2 in /usr/local/lib/python3.11/dist-packages (from torch) (0.6.2)\n",
            "Requirement already satisfied: nvidia-nccl-cu12==2.21.5 in /usr/local/lib/python3.11/dist-packages (from torch) (2.21.5)\n",
            "Requirement already satisfied: nvidia-nvtx-cu12==12.4.127 in /usr/local/lib/python3.11/dist-packages (from torch) (12.4.127)\n",
            "Collecting nvidia-nvjitlink-cu12==12.4.127 (from torch)\n",
            "  Downloading nvidia_nvjitlink_cu12-12.4.127-py3-none-manylinux2014_x86_64.whl.metadata (1.5 kB)\n",
            "Requirement already satisfied: triton==3.2.0 in /usr/local/lib/python3.11/dist-packages (from torch) (3.2.0)\n",
            "Requirement already satisfied: sympy==1.13.1 in /usr/local/lib/python3.11/dist-packages (from torch) (1.13.1)\n",
            "Requirement already satisfied: mpmath<1.4,>=1.1.0 in /usr/local/lib/python3.11/dist-packages (from sympy==1.13.1->torch) (1.3.0)\n",
            "Requirement already satisfied: aiohttp in /usr/local/lib/python3.11/dist-packages (from torch-geometric) (3.11.15)\n",
            "Requirement already satisfied: numpy in /usr/local/lib/python3.11/dist-packages (from torch-geometric) (2.0.2)\n",
            "Requirement already satisfied: psutil>=5.8.0 in /usr/local/lib/python3.11/dist-packages (from torch-geometric) (5.9.5)\n",
            "Requirement already satisfied: pyparsing in /usr/local/lib/python3.11/dist-packages (from torch-geometric) (3.2.3)\n",
            "Requirement already satisfied: requests in /usr/local/lib/python3.11/dist-packages (from torch-geometric) (2.32.3)\n",
            "Requirement already satisfied: tqdm in /usr/local/lib/python3.11/dist-packages (from torch-geometric) (4.67.1)\n",
            "Requirement already satisfied: scipy>=1.6.0 in /usr/local/lib/python3.11/dist-packages (from scikit-learn) (1.15.3)\n",
            "Requirement already satisfied: joblib>=1.2.0 in /usr/local/lib/python3.11/dist-packages (from scikit-learn) (1.5.0)\n",
            "Requirement already satisfied: threadpoolctl>=3.1.0 in /usr/local/lib/python3.11/dist-packages (from scikit-learn) (3.6.0)\n",
            "Requirement already satisfied: python-dateutil>=2.8.2 in /usr/local/lib/python3.11/dist-packages (from pandas) (2.9.0.post0)\n",
            "Requirement already satisfied: pytz>=2020.1 in /usr/local/lib/python3.11/dist-packages (from pandas) (2025.2)\n",
            "Requirement already satisfied: tzdata>=2022.7 in /usr/local/lib/python3.11/dist-packages (from pandas) (2025.2)\n",
            "Requirement already satisfied: six>=1.5 in /usr/local/lib/python3.11/dist-packages (from python-dateutil>=2.8.2->pandas) (1.17.0)\n",
            "Requirement already satisfied: aiohappyeyeballs>=2.3.0 in /usr/local/lib/python3.11/dist-packages (from aiohttp->torch-geometric) (2.6.1)\n",
            "Requirement already satisfied: aiosignal>=1.1.2 in /usr/local/lib/python3.11/dist-packages (from aiohttp->torch-geometric) (1.3.2)\n",
            "Requirement already satisfied: attrs>=17.3.0 in /usr/local/lib/python3.11/dist-packages (from aiohttp->torch-geometric) (25.3.0)\n",
            "Requirement already satisfied: frozenlist>=1.1.1 in /usr/local/lib/python3.11/dist-packages (from aiohttp->torch-geometric) (1.6.0)\n",
            "Requirement already satisfied: multidict<7.0,>=4.5 in /usr/local/lib/python3.11/dist-packages (from aiohttp->torch-geometric) (6.4.3)\n",
            "Requirement already satisfied: propcache>=0.2.0 in /usr/local/lib/python3.11/dist-packages (from aiohttp->torch-geometric) (0.3.1)\n",
            "Requirement already satisfied: yarl<2.0,>=1.17.0 in /usr/local/lib/python3.11/dist-packages (from aiohttp->torch-geometric) (1.20.0)\n",
            "Requirement already satisfied: MarkupSafe>=2.0 in /usr/local/lib/python3.11/dist-packages (from jinja2->torch) (3.0.2)\n",
            "Requirement already satisfied: charset-normalizer<4,>=2 in /usr/local/lib/python3.11/dist-packages (from requests->torch-geometric) (3.4.2)\n",
            "Requirement already satisfied: idna<4,>=2.5 in /usr/local/lib/python3.11/dist-packages (from requests->torch-geometric) (3.10)\n",
            "Requirement already satisfied: urllib3<3,>=1.21.1 in /usr/local/lib/python3.11/dist-packages (from requests->torch-geometric) (2.4.0)\n",
            "Requirement already satisfied: certifi>=2017.4.17 in /usr/local/lib/python3.11/dist-packages (from requests->torch-geometric) (2025.4.26)\n",
            "Downloading nvidia_cublas_cu12-12.4.5.8-py3-none-manylinux2014_x86_64.whl (363.4 MB)\n",
            "\u001b[2K   \u001b[90m━━━━━━━━━━━━━━━━━━━━━━━━━━━━━━━━━━━━━━━━\u001b[0m \u001b[32m363.4/363.4 MB\u001b[0m \u001b[31m4.7 MB/s\u001b[0m eta \u001b[36m0:00:00\u001b[0m\n",
            "\u001b[?25hDownloading nvidia_cuda_cupti_cu12-12.4.127-py3-none-manylinux2014_x86_64.whl (13.8 MB)\n",
            "\u001b[2K   \u001b[90m━━━━━━━━━━━━━━━━━━━━━━━━━━━━━━━━━━━━━━━━\u001b[0m \u001b[32m13.8/13.8 MB\u001b[0m \u001b[31m57.2 MB/s\u001b[0m eta \u001b[36m0:00:00\u001b[0m\n",
            "\u001b[?25hDownloading nvidia_cuda_nvrtc_cu12-12.4.127-py3-none-manylinux2014_x86_64.whl (24.6 MB)\n",
            "\u001b[2K   \u001b[90m━━━━━━━━━━━━━━━━━━━━━━━━━━━━━━━━━━━━━━━━\u001b[0m \u001b[32m24.6/24.6 MB\u001b[0m \u001b[31m34.2 MB/s\u001b[0m eta \u001b[36m0:00:00\u001b[0m\n",
            "\u001b[?25hDownloading nvidia_cuda_runtime_cu12-12.4.127-py3-none-manylinux2014_x86_64.whl (883 kB)\n",
            "\u001b[2K   \u001b[90m━━━━━━━━━━━━━━━━━━━━━━━━━━━━━━━━━━━━━━━━\u001b[0m \u001b[32m883.7/883.7 kB\u001b[0m \u001b[31m15.0 MB/s\u001b[0m eta \u001b[36m0:00:00\u001b[0m\n",
            "\u001b[?25hDownloading nvidia_cudnn_cu12-9.1.0.70-py3-none-manylinux2014_x86_64.whl (664.8 MB)\n",
            "\u001b[2K   \u001b[90m━━━━━━━━━━━━━━━━━━━━━━━━━━━━━━━━━━━━━━━━\u001b[0m \u001b[32m664.8/664.8 MB\u001b[0m \u001b[31m1.5 MB/s\u001b[0m eta \u001b[36m0:00:00\u001b[0m\n",
            "\u001b[?25hDownloading nvidia_cufft_cu12-11.2.1.3-py3-none-manylinux2014_x86_64.whl (211.5 MB)\n",
            "\u001b[2K   \u001b[90m━━━━━━━━━━━━━━━━━━━━━━━━━━━━━━━━━━━━━━━━\u001b[0m \u001b[32m211.5/211.5 MB\u001b[0m \u001b[31m6.5 MB/s\u001b[0m eta \u001b[36m0:00:00\u001b[0m\n",
            "\u001b[?25hDownloading nvidia_curand_cu12-10.3.5.147-py3-none-manylinux2014_x86_64.whl (56.3 MB)\n",
            "\u001b[2K   \u001b[90m━━━━━━━━━━━━━━━━━━━━━━━━━━━━━━━━━━━━━━━━\u001b[0m \u001b[32m56.3/56.3 MB\u001b[0m \u001b[31m12.5 MB/s\u001b[0m eta \u001b[36m0:00:00\u001b[0m\n",
            "\u001b[?25hDownloading nvidia_cusolver_cu12-11.6.1.9-py3-none-manylinux2014_x86_64.whl (127.9 MB)\n",
            "\u001b[2K   \u001b[90m━━━━━━━━━━━━━━━━━━━━━━━━━━━━━━━━━━━━━━━━\u001b[0m \u001b[32m127.9/127.9 MB\u001b[0m \u001b[31m6.4 MB/s\u001b[0m eta \u001b[36m0:00:00\u001b[0m\n",
            "\u001b[?25hDownloading nvidia_cusparse_cu12-12.3.1.170-py3-none-manylinux2014_x86_64.whl (207.5 MB)\n",
            "\u001b[2K   \u001b[90m━━━━━━━━━━━━━━━━━━━━━━━━━━━━━━━━━━━━━━━━\u001b[0m \u001b[32m207.5/207.5 MB\u001b[0m \u001b[31m5.3 MB/s\u001b[0m eta \u001b[36m0:00:00\u001b[0m\n",
            "\u001b[?25hDownloading nvidia_nvjitlink_cu12-12.4.127-py3-none-manylinux2014_x86_64.whl (21.1 MB)\n",
            "\u001b[2K   \u001b[90m━━━━━━━━━━━━━━━━━━━━━━━━━━━━━━━━━━━━━━━━\u001b[0m \u001b[32m21.1/21.1 MB\u001b[0m \u001b[31m82.2 MB/s\u001b[0m eta \u001b[36m0:00:00\u001b[0m\n",
            "\u001b[?25hDownloading torch_geometric-2.6.1-py3-none-any.whl (1.1 MB)\n",
            "\u001b[2K   \u001b[90m━━━━━━━━━━━━━━━━━━━━━━━━━━━━━━━━━━━━━━━━\u001b[0m \u001b[32m1.1/1.1 MB\u001b[0m \u001b[31m46.4 MB/s\u001b[0m eta \u001b[36m0:00:00\u001b[0m\n",
            "\u001b[?25hInstalling collected packages: nvidia-nvjitlink-cu12, nvidia-curand-cu12, nvidia-cufft-cu12, nvidia-cuda-runtime-cu12, nvidia-cuda-nvrtc-cu12, nvidia-cuda-cupti-cu12, nvidia-cublas-cu12, nvidia-cusparse-cu12, nvidia-cudnn-cu12, torch-geometric, nvidia-cusolver-cu12\n",
            "  Attempting uninstall: nvidia-nvjitlink-cu12\n",
            "    Found existing installation: nvidia-nvjitlink-cu12 12.5.82\n",
            "    Uninstalling nvidia-nvjitlink-cu12-12.5.82:\n",
            "      Successfully uninstalled nvidia-nvjitlink-cu12-12.5.82\n",
            "  Attempting uninstall: nvidia-curand-cu12\n",
            "    Found existing installation: nvidia-curand-cu12 10.3.6.82\n",
            "    Uninstalling nvidia-curand-cu12-10.3.6.82:\n",
            "      Successfully uninstalled nvidia-curand-cu12-10.3.6.82\n",
            "  Attempting uninstall: nvidia-cufft-cu12\n",
            "    Found existing installation: nvidia-cufft-cu12 11.2.3.61\n",
            "    Uninstalling nvidia-cufft-cu12-11.2.3.61:\n",
            "      Successfully uninstalled nvidia-cufft-cu12-11.2.3.61\n",
            "  Attempting uninstall: nvidia-cuda-runtime-cu12\n",
            "    Found existing installation: nvidia-cuda-runtime-cu12 12.5.82\n",
            "    Uninstalling nvidia-cuda-runtime-cu12-12.5.82:\n",
            "      Successfully uninstalled nvidia-cuda-runtime-cu12-12.5.82\n",
            "  Attempting uninstall: nvidia-cuda-nvrtc-cu12\n",
            "    Found existing installation: nvidia-cuda-nvrtc-cu12 12.5.82\n",
            "    Uninstalling nvidia-cuda-nvrtc-cu12-12.5.82:\n",
            "      Successfully uninstalled nvidia-cuda-nvrtc-cu12-12.5.82\n",
            "  Attempting uninstall: nvidia-cuda-cupti-cu12\n",
            "    Found existing installation: nvidia-cuda-cupti-cu12 12.5.82\n",
            "    Uninstalling nvidia-cuda-cupti-cu12-12.5.82:\n",
            "      Successfully uninstalled nvidia-cuda-cupti-cu12-12.5.82\n",
            "  Attempting uninstall: nvidia-cublas-cu12\n",
            "    Found existing installation: nvidia-cublas-cu12 12.5.3.2\n",
            "    Uninstalling nvidia-cublas-cu12-12.5.3.2:\n",
            "      Successfully uninstalled nvidia-cublas-cu12-12.5.3.2\n",
            "  Attempting uninstall: nvidia-cusparse-cu12\n",
            "    Found existing installation: nvidia-cusparse-cu12 12.5.1.3\n",
            "    Uninstalling nvidia-cusparse-cu12-12.5.1.3:\n",
            "      Successfully uninstalled nvidia-cusparse-cu12-12.5.1.3\n",
            "  Attempting uninstall: nvidia-cudnn-cu12\n",
            "    Found existing installation: nvidia-cudnn-cu12 9.3.0.75\n",
            "    Uninstalling nvidia-cudnn-cu12-9.3.0.75:\n",
            "      Successfully uninstalled nvidia-cudnn-cu12-9.3.0.75\n",
            "  Attempting uninstall: nvidia-cusolver-cu12\n",
            "    Found existing installation: nvidia-cusolver-cu12 11.6.3.83\n",
            "    Uninstalling nvidia-cusolver-cu12-11.6.3.83:\n",
            "      Successfully uninstalled nvidia-cusolver-cu12-11.6.3.83\n",
            "Successfully installed nvidia-cublas-cu12-12.4.5.8 nvidia-cuda-cupti-cu12-12.4.127 nvidia-cuda-nvrtc-cu12-12.4.127 nvidia-cuda-runtime-cu12-12.4.127 nvidia-cudnn-cu12-9.1.0.70 nvidia-cufft-cu12-11.2.1.3 nvidia-curand-cu12-10.3.5.147 nvidia-cusolver-cu12-11.6.1.9 nvidia-cusparse-cu12-12.3.1.170 nvidia-nvjitlink-cu12-12.4.127 torch-geometric-2.6.1\n"
          ]
        }
      ],
      "source": [
        "!pip install torch torch-geometric scikit-learn pandas networkx"
      ]
    },
    {
      "cell_type": "code",
      "source": [
        "import numpy\n",
        "print(numpy.__version__)"
      ],
      "metadata": {
        "colab": {
          "base_uri": "https://localhost:8080/"
        },
        "id": "36ckNAtN356c",
        "outputId": "c9ea0ceb-1519-4390-fb2a-a662fbda36fb"
      },
      "execution_count": null,
      "outputs": [
        {
          "output_type": "stream",
          "name": "stdout",
          "text": [
            "2.0.2\n"
          ]
        }
      ]
    },
    {
      "cell_type": "code",
      "source": [
        "import torch\n",
        "print(torch.__version__)"
      ],
      "metadata": {
        "colab": {
          "base_uri": "https://localhost:8080/"
        },
        "id": "20icbc1u39TW",
        "outputId": "c0fa9fc3-39b9-436e-d61f-5567d105247c"
      },
      "execution_count": null,
      "outputs": [
        {
          "output_type": "stream",
          "name": "stdout",
          "text": [
            "2.6.0+cu124\n"
          ]
        }
      ]
    },
    {
      "cell_type": "code",
      "source": [
        "# Torch-scatter and torch-sparse compatible with torch==2.6.0+cu124\n",
        "!pip install torch-scatter -f https://data.pyg.org/whl/torch-2.6.0+cu124.html -q\n",
        "!pip install torch-sparse -f https://data.pyg.org/whl/torch-2.6.0+cu124.html -q"
      ],
      "metadata": {
        "id": "WNdPEpUm4Arb",
        "colab": {
          "base_uri": "https://localhost:8080/"
        },
        "outputId": "96f93df5-c994-4d87-d013-c2edcc38457b"
      },
      "execution_count": null,
      "outputs": [
        {
          "output_type": "stream",
          "name": "stdout",
          "text": [
            "\u001b[2K     \u001b[90m━━━━━━━━━━━━━━━━━━━━━━━━━━━━━━━━━━━━━━━━\u001b[0m \u001b[32m10.8/10.8 MB\u001b[0m \u001b[31m29.8 MB/s\u001b[0m eta \u001b[36m0:00:00\u001b[0m\n",
            "\u001b[2K     \u001b[90m━━━━━━━━━━━━━━━━━━━━━━━━━━━━━━━━━━━━━━━━\u001b[0m \u001b[32m5.0/5.0 MB\u001b[0m \u001b[31m20.2 MB/s\u001b[0m eta \u001b[36m0:00:00\u001b[0m\n",
            "\u001b[?25h"
          ]
        }
      ]
    },
    {
      "cell_type": "code",
      "source": [
        "from google.colab import drive\n",
        "drive.mount('/content/drive')\n",
        "\n",
        "import os, random, numpy as np, pandas as pd\n",
        "import torch\n",
        "import torch.nn.functional as F\n",
        "from torch_geometric.nn import SAGEConv\n",
        "from torch_geometric.data import Data\n",
        "from sklearn.model_selection import train_test_split\n",
        "from sklearn.metrics import classification_report, accuracy_score\n",
        "from sklearn.preprocessing import StandardScaler\n",
        "import matplotlib.pyplot as plt\n"
      ],
      "metadata": {
        "colab": {
          "base_uri": "https://localhost:8080/"
        },
        "id": "_EzHTIeoDNRY",
        "outputId": "e026240d-435d-43d9-bc82-d4d9815d84b4"
      },
      "execution_count": null,
      "outputs": [
        {
          "output_type": "stream",
          "name": "stdout",
          "text": [
            "Mounted at /content/drive\n"
          ]
        }
      ]
    },
    {
      "cell_type": "code",
      "source": [
        "import os\n",
        "import numpy as np\n",
        "import pandas as pd\n",
        "import torch\n",
        "from sklearn.preprocessing import StandardScaler\n",
        "\n",
        "# Paths to your datasets\n",
        "benign_dir = \"/content/drive/My Drive/IOT/benign/\"\n",
        "mirai_dir = \"/content/drive/My Drive/IOT/mirai/\"\n",
        "\n",
        "# List CSV files\n",
        "benign_files = os.listdir(benign_dir)\n",
        "mirai_files = os.listdir(mirai_dir)\n",
        "\n",
        "# Load and concatenate benign data, parsing Timestamp as datetime\n",
        "benign_df = pd.concat([\n",
        "    pd.read_csv(os.path.join(benign_dir, f), parse_dates=['Timestamp']) for f in benign_files\n",
        "], ignore_index=True)\n",
        "benign_df['label'] = 0\n",
        "\n",
        "# Load and concatenate mirai data, parsing Timestamp as datetime\n",
        "mirai_df = pd.concat([\n",
        "    pd.read_csv(os.path.join(mirai_dir, f), parse_dates=['Timestamp']) for f in mirai_files\n",
        "], ignore_index=True)\n",
        "mirai_df['label'] = 1\n",
        "\n",
        "# Combine datasets\n",
        "df = pd.concat([benign_df, mirai_df], ignore_index=True)\n",
        "\n",
        "print(f\"Shape of combined df: {df.shape}\")\n",
        "print(\"Label counts:\\n\", df['label'].value_counts())\n",
        "\n",
        "# Replace infinite values with NaN and drop columns with any NaNs\n",
        "df = df.replace([np.inf, -np.inf], np.nan)\n",
        "df = df.dropna(axis=1, how='any')\n",
        "df = df.fillna(0)\n",
        "\n",
        "# Separate the Timestamp column (keep it for later)\n",
        "timestamps = df['Timestamp']\n",
        "\n",
        "# Separate labels\n",
        "labels = df['label'].astype(int).values\n",
        "\n",
        "# Select only numeric columns except 'label' and 'Timestamp' for features\n",
        "features = df.select_dtypes(include=[np.number]).drop(columns=['label'])\n",
        "\n",
        "print(f\"Feature columns used: {features.columns.tolist()}\")\n",
        "\n",
        "# Scale features\n",
        "scaler = StandardScaler()\n",
        "x_scaled = scaler.fit_transform(features)\n",
        "\n",
        "# Convert to PyTorch tensors\n",
        "x = torch.tensor(x_scaled, dtype=torch.float32)\n",
        "y = torch.tensor(labels, dtype=torch.long)\n",
        "\n",
        "print(f\"x shape: {x.shape}, y shape: {y.shape}\")\n",
        "\n",
        "# If you need Timestamp back in df for causal sampling or sliding window:\n",
        "df['Timestamp'] = timestamps\n",
        "\n",
        "# Now you can proceed with your causal sampling or any time-based logic using df['Timestamp']\n"
      ],
      "metadata": {
        "colab": {
          "base_uri": "https://localhost:8080/"
        },
        "id": "_VHRlHeR4OoT",
        "outputId": "2893c071-e90e-474c-b2c8-4b0cc0cd3631"
      },
      "execution_count": null,
      "outputs": [
        {
          "output_type": "stream",
          "name": "stderr",
          "text": [
            "<ipython-input-4-2f8a80468b0f>:17: UserWarning: Could not infer format, so each element will be parsed individually, falling back to `dateutil`. To ensure parsing is consistent and as-expected, please specify a format.\n",
            "  pd.read_csv(os.path.join(benign_dir, f), parse_dates=['Timestamp']) for f in benign_files\n"
          ]
        },
        {
          "output_type": "stream",
          "name": "stdout",
          "text": [
            "Shape of combined df: (118284, 85)\n",
            "Label counts:\n",
            " label\n",
            "0    84526\n",
            "1    33758\n",
            "Name: count, dtype: int64\n",
            "Feature columns used: ['Src Port', 'Dst Port', 'Protocol', 'Flow Duration', 'Total Fwd Packet', 'Total Bwd packets', 'Total Length of Fwd Packet', 'Total Length of Bwd Packet', 'Fwd Packet Length Max', 'Fwd Packet Length Min', 'Fwd Packet Length Mean', 'Fwd Packet Length Std', 'Bwd Packet Length Max', 'Bwd Packet Length Min', 'Bwd Packet Length Mean', 'Bwd Packet Length Std', 'Flow IAT Mean', 'Flow IAT Std', 'Flow IAT Max', 'Flow IAT Min', 'Fwd IAT Total', 'Fwd IAT Mean', 'Fwd IAT Std', 'Fwd IAT Max', 'Fwd IAT Min', 'Bwd IAT Total', 'Bwd IAT Mean', 'Bwd IAT Std', 'Bwd IAT Max', 'Bwd IAT Min', 'Fwd PSH Flags', 'Bwd PSH Flags', 'Fwd URG Flags', 'Bwd URG Flags', 'Fwd Header Length', 'Bwd Header Length', 'Fwd Packets/s', 'Bwd Packets/s', 'Packet Length Min', 'Packet Length Max', 'Packet Length Mean', 'Packet Length Std', 'Packet Length Variance', 'FIN Flag Count', 'SYN Flag Count', 'RST Flag Count', 'PSH Flag Count', 'ACK Flag Count', 'URG Flag Count', 'CWR Flag Count', 'ECE Flag Count', 'Down/Up Ratio', 'Average Packet Size', 'Fwd Segment Size Avg', 'Bwd Segment Size Avg', 'Fwd Bytes/Bulk Avg', 'Fwd Packet/Bulk Avg', 'Fwd Bulk Rate Avg', 'Bwd Bytes/Bulk Avg', 'Bwd Packet/Bulk Avg', 'Bwd Bulk Rate Avg', 'Subflow Fwd Packets', 'Subflow Fwd Bytes', 'Subflow Bwd Packets', 'Subflow Bwd Bytes', 'FWD Init Win Bytes', 'Bwd Init Win Bytes', 'Fwd Act Data Pkts', 'Fwd Seg Size Min', 'Active Mean', 'Active Std', 'Active Max', 'Active Min', 'Idle Mean', 'Idle Std', 'Idle Max', 'Idle Min']\n",
            "x shape: torch.Size([118284, 77]), y shape: torch.Size([118284])\n"
          ]
        }
      ]
    },
    {
      "cell_type": "code",
      "source": [
        "num_nodes = x.shape[0]\n",
        "edges = [[i, i + 1] for i in range(num_nodes - 1)]\n",
        "edges += [[i + 1, i] for i in range(num_nodes - 1)]  # bidirectional\n",
        "\n",
        "edge_index = torch.tensor(edges, dtype=torch.long).t().contiguous()\n",
        "print(f\"Total nodes: {num_nodes}, edges: {edge_index.size(1)}\")\n",
        "# Create a PyG Data object\n",
        "from torch_geometric.data import Data\n",
        "\n",
        "data = Data(x=x, y=y, edge_index=edge_index)\n",
        "\n",
        "# Save the data object to disk\n",
        "torch.save(data, \"/content/drive/My Drive/IOT/iot_data_graph.pth\")\n",
        "print(\"✅ Data object saved to /content/iot_data_graph.pth\")\n"
      ],
      "metadata": {
        "colab": {
          "base_uri": "https://localhost:8080/"
        },
        "id": "GQIUyMePGQ0v",
        "outputId": "1d82539c-59b8-4137-adbb-a43e050b2d31"
      },
      "execution_count": null,
      "outputs": [
        {
          "output_type": "stream",
          "name": "stdout",
          "text": [
            "Total nodes: 118284, edges: 236566\n",
            "✅ Data object saved to /content/iot_data_graph.pth\n"
          ]
        }
      ]
    },
    {
      "cell_type": "code",
      "source": [
        "import torch\n",
        "import torch.nn.functional as F\n",
        "from torch_geometric.nn import SAGEConv\n",
        "from torch_geometric.data import Data\n",
        "from sklearn.metrics import accuracy_score, classification_report\n",
        "from sklearn.model_selection import train_test_split\n",
        "import numpy as np\n",
        "import pandas as pd\n",
        "import matplotlib.pyplot as plt\n",
        "\n",
        "# Assume x, edge_index, y, num_nodes are already defined\n",
        "\n",
        "# Create train/test masks\n",
        "indices = np.arange(num_nodes)\n",
        "train_idx, test_idx = train_test_split(indices, test_size=0.2, stratify=y.numpy(), random_state=42)\n",
        "train_mask = torch.zeros(num_nodes, dtype=torch.bool)\n",
        "test_mask = torch.zeros(num_nodes, dtype=torch.bool)\n",
        "train_mask[train_idx] = True\n",
        "test_mask[test_idx] = True\n",
        "\n",
        "data = Data(x=x, edge_index=edge_index, y=y, train_mask=train_mask, test_mask=test_mask)\n",
        "\n",
        "class GraphSAGE(torch.nn.Module):\n",
        "    def __init__(self, in_channels, hidden_channels, out_channels):\n",
        "        super().__init__()\n",
        "        self.conv1 = SAGEConv(in_channels, hidden_channels)\n",
        "        self.conv2 = SAGEConv(hidden_channels, out_channels)\n",
        "\n",
        "    def forward(self, x, edge_index):\n",
        "        x = self.conv1(x, edge_index)\n",
        "        x = F.relu(x)\n",
        "        x = F.dropout(x, p=0.5, training=self.training)\n",
        "        x = self.conv2(x, edge_index)\n",
        "        return x\n",
        "\n",
        "def train(model, data, optimizer, criterion):\n",
        "    model.train()\n",
        "    optimizer.zero_grad()\n",
        "    out = model(data.x, data.edge_index)\n",
        "    loss = criterion(out[data.train_mask], data.y[data.train_mask])\n",
        "    loss.backward()\n",
        "    optimizer.step()\n",
        "    return loss.item()\n",
        "\n",
        "def evaluate(model, data, verbose=False):\n",
        "    model.eval()\n",
        "    out = model(data.x, data.edge_index)\n",
        "    preds = out.argmax(dim=1)\n",
        "    y_true = data.y[data.test_mask].cpu().numpy()\n",
        "    y_pred = preds[data.test_mask].cpu().numpy()\n",
        "    acc = accuracy_score(y_true, y_pred)\n",
        "    if verbose:\n",
        "        print(\"\\n--- Test Classification Report ---\")\n",
        "        print(classification_report(y_true, y_pred, zero_division=0))\n",
        "    return acc\n",
        "\n",
        "in_channels = data.num_features\n",
        "hidden_channels = 128\n",
        "out_channels = len(torch.unique(data.y))\n",
        "\n",
        "class_counts = pd.Series(y.numpy()).value_counts().sort_index()\n",
        "class_weights = torch.tensor(\n",
        "    [len(y) / (len(class_counts) * class_counts[i]) for i in class_counts.index],\n",
        "    dtype=torch.float\n",
        ")\n",
        "\n",
        "model = GraphSAGE(in_channels, hidden_channels, out_channels)\n",
        "optimizer = torch.optim.Adam(model.parameters(), lr=0.05)\n",
        "criterion = torch.nn.CrossEntropyLoss(weight=class_weights)\n",
        "\n",
        "epochs = 15\n",
        "losses, accuracies = [], []\n",
        "\n",
        "for epoch in range(1, epochs + 1):\n",
        "    loss = train(model, data, optimizer, criterion)\n",
        "    acc = evaluate(model, data)\n",
        "    losses.append(loss)\n",
        "    accuracies.append(acc * 100)\n",
        "    print(f\"Epoch {epoch:02d} - Loss: {loss:.4f}, Acc: {acc*100:.2f}%\")\n",
        "\n",
        "# Print detailed report only once after training\n",
        "evaluate(model, data, verbose=True)\n",
        "\n",
        "# Plot loss and accuracy\n",
        "plt.figure(figsize=(10, 4))\n",
        "\n",
        "plt.subplot(1, 2, 1)\n",
        "plt.plot(range(1, epochs + 1), losses, label='Loss', color='blue')\n",
        "plt.xlabel(\"Epoch\")\n",
        "plt.ylabel(\"Loss\")\n",
        "plt.title(\"Training Loss\")\n",
        "plt.grid(True)\n",
        "\n",
        "plt.subplot(1, 2, 2)\n",
        "plt.plot(range(1, epochs + 1), accuracies, label='Accuracy', color='green')\n",
        "plt.xlabel(\"Epoch\")\n",
        "plt.ylabel(\"Accuracy (%)\")\n",
        "plt.title(\"Test Accuracy\")\n",
        "plt.grid(True)\n",
        "\n",
        "plt.tight_layout()\n",
        "plt.show()\n"
      ],
      "metadata": {
        "colab": {
          "base_uri": "https://localhost:8080/",
          "height": 858
        },
        "id": "Lgfwe58WGUeU",
        "outputId": "69609df6-7c84-4aff-c5e5-4301039f9376"
      },
      "execution_count": null,
      "outputs": [
        {
          "output_type": "stream",
          "name": "stdout",
          "text": [
            "Epoch 01 - Loss: 0.7332, Acc: 45.90%\n",
            "Epoch 02 - Loss: 2.8137, Acc: 72.41%\n",
            "Epoch 03 - Loss: 4.3425, Acc: 75.03%\n",
            "Epoch 04 - Loss: 1.9124, Acc: 61.93%\n",
            "Epoch 05 - Loss: 1.2102, Acc: 46.99%\n",
            "Epoch 06 - Loss: 1.5586, Acc: 65.27%\n",
            "Epoch 07 - Loss: 1.1618, Acc: 75.75%\n",
            "Epoch 08 - Loss: 0.7940, Acc: 70.37%\n",
            "Epoch 09 - Loss: 0.7852, Acc: 71.48%\n",
            "Epoch 10 - Loss: 0.8094, Acc: 78.71%\n",
            "Epoch 11 - Loss: 0.7006, Acc: 77.18%\n",
            "Epoch 12 - Loss: 0.7570, Acc: 71.65%\n",
            "Epoch 13 - Loss: 0.7607, Acc: 74.52%\n",
            "Epoch 14 - Loss: 0.6016, Acc: 75.20%\n",
            "Epoch 15 - Loss: 0.6909, Acc: 81.10%\n",
            "\n",
            "--- Test Classification Report ---\n",
            "              precision    recall  f1-score   support\n",
            "\n",
            "           0       0.92      0.80      0.86     16905\n",
            "           1       0.63      0.83      0.71      6752\n",
            "\n",
            "    accuracy                           0.81     23657\n",
            "   macro avg       0.77      0.82      0.79     23657\n",
            "weighted avg       0.84      0.81      0.82     23657\n",
            "\n"
          ]
        },
        {
          "output_type": "display_data",
          "data": {
            "text/plain": [
              "<Figure size 1000x400 with 2 Axes>"
            ],
            "image/png": "[encoded data removed]"
          },
          "metadata": {}
        }
      ]
    },
    {
      "cell_type": "code",
      "source": [
        "import torch\n",
        "\n",
        "num_nodes = data.num_nodes\n",
        "train_mask = data.train_mask\n",
        "\n",
        "# Create validation mask (randomly select 10% of training nodes)\n",
        "train_indices = train_mask.nonzero(as_tuple=False).view(-1)\n",
        "num_val = int(0.1 * train_indices.size(0))\n",
        "val_indices = train_indices[torch.randperm(train_indices.size(0))[:num_val]]\n",
        "\n",
        "val_mask = torch.zeros(num_nodes, dtype=torch.bool)\n",
        "val_mask[val_indices] = True\n",
        "\n",
        "# Update data object\n",
        "data.val_mask = val_mask\n",
        "\n",
        "# Optional: update train_mask to exclude validation nodes\n",
        "new_train_mask = train_mask.clone()\n",
        "new_train_mask[val_indices] = False\n",
        "data.train_mask = new_train_mask\n"
      ],
      "metadata": {
        "id": "8S7nHwEjgpMm"
      },
      "execution_count": null,
      "outputs": []
    },
    {
      "cell_type": "code",
      "source": [
        "import torch\n",
        "import torch.nn.functional as F\n",
        "from torch_geometric.nn import SAGEConv, global_mean_pool\n",
        "# from torch_geometric.data import DataLoader # Not used in this snippet\n",
        "from torch.optim.lr_scheduler import StepLR # Not explicitly used for scheduler in loop but imported\n",
        "\n",
        "# --- Add this if you want to save/load to/from Google Drive in Colab ---\n",
        "# from google.colab import drive\n",
        "# drive.mount('/content/drive')\n",
        "# ---------------------------------------------------------------------\n",
        "\n",
        "class GraphSAGE(torch.nn.Module):\n",
        "    def __init__(self, in_channels, hidden_channels, out_channels):\n",
        "        super().__init__()\n",
        "        self.conv1 = SAGEConv(in_channels, hidden_channels)\n",
        "        self.bn1 = torch.nn.BatchNorm1d(hidden_channels)\n",
        "        self.conv2 = SAGEConv(hidden_channels, hidden_channels)\n",
        "        self.bn2 = torch.nn.BatchNorm1d(hidden_channels)\n",
        "        self.lin = torch.nn.Linear(hidden_channels, out_channels)\n",
        "        self.dropout_rate = 0.5 # Renamed to avoid confusion with F.dropout p argument\n",
        "\n",
        "    def forward(self, x, edge_index):\n",
        "        x = self.conv1(x, edge_index)\n",
        "        x = self.bn1(x)\n",
        "        x = F.relu(x)\n",
        "        x = F.dropout(x, p=self.dropout_rate, training=self.training) # Use self.dropout_rate\n",
        "\n",
        "        x = self.conv2(x, edge_index)\n",
        "        x = self.bn2(x)\n",
        "        x = F.relu(x)\n",
        "        x = F.dropout(x, p=self.dropout_rate, training=self.training) # Use self.dropout_rate\n",
        "\n",
        "        x = self.lin(x)\n",
        "        return x\n",
        "\n",
        "def train(model, data, optimizer, criterion):\n",
        "    model.train()\n",
        "    optimizer.zero_grad()\n",
        "    out = model(data.x, data.edge_index)\n",
        "    loss = criterion(out[data.train_mask], data.y[data.train_mask])\n",
        "    loss.backward()\n",
        "    optimizer.step()\n",
        "    return loss.item()\n",
        "\n",
        "def evaluate_model(model, data):\n",
        "    model.eval()\n",
        "    with torch.no_grad():\n",
        "        out = model(data.x, data.edge_index)\n",
        "        probs = F.softmax(out, dim=1)\n",
        "\n",
        "        test_mask = data.test_mask\n",
        "        y_true = data.y[test_mask].cpu().numpy()\n",
        "        y_pred = probs[test_mask].argmax(dim=1).cpu().numpy()\n",
        "        y_probs = probs[test_mask].cpu().numpy()\n",
        "\n",
        "    from sklearn.metrics import accuracy_score, precision_recall_fscore_support, confusion_matrix, ConfusionMatrixDisplay\n",
        "    from sklearn.preprocessing import label_binarize\n",
        "    import matplotlib.pyplot as plt\n",
        "    import numpy as np\n",
        "\n",
        "    acc = accuracy_score(y_true, y_pred)\n",
        "    precision, recall, f1, _ = precision_recall_fscore_support(y_true, y_pred, average='weighted', zero_division=0)\n",
        "\n",
        "    print(f\"\\n--- Evaluation Results ---\")\n",
        "    print(f\"Accuracy:  {acc:.4f}\")\n",
        "    print(f\"Precision: {precision:.4f}\")\n",
        "    print(f\"Recall:    {recall:.4f}\")\n",
        "    print(f\"F1 Score:  {f1:.4f}\")\n",
        "\n",
        "    cm = confusion_matrix(y_true, y_pred)\n",
        "    disp = ConfusionMatrixDisplay(confusion_matrix=cm)\n",
        "    disp.plot(cmap='Blues')\n",
        "    plt.title(\"Confusion Matrix\")\n",
        "    plt.grid(False) # Typically, confusion matrix doesn't need grid\n",
        "    plt.show()\n",
        "\n",
        "    n_classes = probs.shape[1]\n",
        "    # For multiclass ROC, micro-average is often used, but ensure shapes match\n",
        "    # label_binarize will create one-hot encoded true labels\n",
        "    y_true_bin = label_binarize(y_true, classes=np.arange(n_classes))\n",
        "\n",
        "    # Ensure y_true_bin and y_probs have the same shape for roc_curve with ravel()\n",
        "    # This check is usually only needed if data preprocessing has inconsistencies.\n",
        "    # For standard classification, if n_classes matches, shapes should align.\n",
        "    if y_true_bin.shape != y_probs.shape:\n",
        "        print(\"Warning: Shape mismatch between y_true_bin and y_probs. Adjusting samples.\")\n",
        "        min_samples = min(y_true_bin.shape[0], y_probs.shape[0])\n",
        "        y_true_bin = y_true_bin[:min_samples]\n",
        "        y_probs = y_probs[:min_samples]\n",
        "\n",
        "\n",
        "    # For multiclass ROC, using .ravel() flattens all true/prob values into 1D arrays\n",
        "    # This creates a 'micro-averaged' ROC curve, treating all (class, sample) pairs equally.\n",
        "    fpr, tpr, _ = roc_curve(y_true_bin.ravel(), y_probs.ravel())\n",
        "    roc_auc = auc(fpr, tpr)\n",
        "\n",
        "    plt.figure()\n",
        "    plt.plot(fpr, tpr, label=f'AUC = {roc_auc:.4f}', color='darkorange')\n",
        "    plt.plot([0, 1], [0, 1], 'k--', lw=1) # Random classifier line\n",
        "    plt.xlabel('False Positive Rate')\n",
        "    plt.ylabel('True Positive Rate')\n",
        "    plt.title('Micro-Averaged ROC Curve')\n",
        "    plt.legend(loc='lower right')\n",
        "    plt.grid(True)\n",
        "    plt.show()\n",
        "\n",
        "# --- Placeholder for 'data' object. You need to define or load your 'data' here ---\n",
        "# Example:\n",
        "# from torch_geometric.datasets import Planetoid\n",
        "# dataset = Planetoid(root='/tmp/Cora', name='Cora')\n",
        "# data = dataset[0]\n",
        "# ---------------------------------------------------------------------------------\n",
        "\n",
        "# Hyperparameters\n",
        "in_channels = data.num_node_features\n",
        "hidden_channels = 128\n",
        "out_channels = int(data.y.max()) + 1 # number of classes\n",
        "\n",
        "model = GraphSAGE(in_channels, hidden_channels, out_channels)\n",
        "optimizer = torch.optim.Adam(model.parameters(), lr=0.005, weight_decay=5e-4)\n",
        "criterion = torch.nn.CrossEntropyLoss()\n",
        "\n",
        "# Define the path to save the model.\n",
        "# Option A: Save in current directory\n",
        "MODEL_SAVE_PATH = \"iot_model.pt\"\n",
        "# Option B: Save to Google Drive (if mounted)\n",
        "MODEL_SAVE_PATH = \"/content/drive/My Drive/IOT/iot_model.pth\"\n",
        "\n",
        "\n",
        "# Training loop with early stopping\n",
        "best_val_acc = 0 # Renamed for clarity from best_acc to best_val_acc\n",
        "patience = 10\n",
        "counter = 0\n",
        "\n",
        "print(\"Starting training...\")\n",
        "for epoch in range(1, 201):\n",
        "    loss = train(model, data, optimizer, criterion)\n",
        "\n",
        "    # Evaluate validation accuracy more frequently, e.g., every epoch or every few epochs\n",
        "    # For plotting loss/accuracy curves, it's better to evaluate every epoch.\n",
        "    model.eval()\n",
        "    with torch.no_grad():\n",
        "        out = model(data.x, data.edge_index)\n",
        "        preds = out[data.val_mask].argmax(dim=1)\n",
        "        labels = data.y[data.val_mask]\n",
        "        val_acc = (preds == labels).sum().item() / labels.size(0)\n",
        "\n",
        "    # Print status less frequently to avoid spamming console, e.g., every 10 epochs\n",
        "    if epoch % 10 == 0 or epoch == 1: # Print first epoch as well\n",
        "        print(f\"Epoch {epoch:03d}, Loss: {loss:.4f}, Val Acc: {val_acc:.4f}\")\n",
        "\n",
        "    # Early stopping logic\n",
        "    if val_acc > best_val_acc:\n",
        "        best_val_acc = val_acc\n",
        "        counter = 0 # Reset patience counter\n",
        "        torch.save(model.state_dict(), MODEL_SAVE_PATH) # Save the best model\n",
        "    else:\n",
        "        counter += 1\n",
        "        if counter >= patience:\n",
        "            print(f\"Early stopping triggered at Epoch {epoch} due to no improvement for {patience} epochs.\")\n",
        "            break\n",
        "\n",
        "print(\"\\nTraining finished. Loading best model for final evaluation.\")\n",
        "\n",
        "# Load the best model's state dictionary\n",
        "# Make sure the path here matches where you saved it.\n",
        "model.load_state_dict(torch.load(MODEL_SAVE_PATH))\n",
        "\n",
        "# Evaluate the model on the test set\n",
        "evaluate_model(model, data)"
      ],
      "metadata": {
        "colab": {
          "base_uri": "https://localhost:8080/",
          "height": 1000
        },
        "id": "QxEW2E8JbGki",
        "outputId": "e62575e9-4f32-4434-88e9-8a9a765e9832"
      },
      "execution_count": null,
      "outputs": [
        {
          "output_type": "stream",
          "name": "stdout",
          "text": [
            "Starting training...\n",
            "Epoch 001, Loss: 0.6558, Val Acc: 0.7004\n",
            "Epoch 010, Loss: 0.3528, Val Acc: 0.8534\n",
            "Epoch 020, Loss: 0.2506, Val Acc: 0.9095\n",
            "Epoch 030, Loss: 0.2127, Val Acc: 0.9273\n",
            "Epoch 040, Loss: 0.1863, Val Acc: 0.9393\n",
            "Epoch 050, Loss: 0.1731, Val Acc: 0.9398\n",
            "Epoch 060, Loss: 0.1576, Val Acc: 0.9486\n",
            "Epoch 070, Loss: 0.1599, Val Acc: 0.9550\n",
            "Epoch 080, Loss: 0.1413, Val Acc: 0.9565\n",
            "Epoch 090, Loss: 0.1338, Val Acc: 0.9590\n",
            "Epoch 100, Loss: 0.1355, Val Acc: 0.9593\n",
            "Epoch 110, Loss: 0.1260, Val Acc: 0.9606\n",
            "Epoch 120, Loss: 0.1203, Val Acc: 0.9620\n",
            "Early stopping triggered at Epoch 127 due to no improvement for 10 epochs.\n",
            "\n",
            "Training finished. Loading best model for final evaluation.\n",
            "\n",
            "--- Evaluation Results ---\n",
            "Accuracy:  0.9612\n",
            "Precision: 0.9611\n",
            "Recall:    0.9612\n",
            "F1 Score:  0.9611\n"
          ]
        },
        {
          "output_type": "display_data",
          "data": {
            "text/plain": [
              "<Figure size 640x480 with 2 Axes>"
            ],
            "image/png": "[encoded data removed]"
          },
          "metadata": {}
        },
        {
          "output_type": "stream",
          "name": "stdout",
          "text": [
            "Warning: Shape mismatch between y_true_bin and y_probs. Adjusting samples.\n"
          ]
        },
        {
          "output_type": "error",
          "ename": "NameError",
          "evalue": "name 'roc_curve' is not defined",
          "traceback": [
            "\u001b[0;31m---------------------------------------------------------------------------\u001b[0m",
            "\u001b[0;31mNameError\u001b[0m                                 Traceback (most recent call last)",
            "\u001b[0;32m<ipython-input-19-ea15142f0bdd>\u001b[0m in \u001b[0;36m<cell line: 0>\u001b[0;34m()\u001b[0m\n\u001b[1;32m    168\u001b[0m \u001b[0;34m\u001b[0m\u001b[0m\n\u001b[1;32m    169\u001b[0m \u001b[0;31m# Evaluate the model on the test set\u001b[0m\u001b[0;34m\u001b[0m\u001b[0;34m\u001b[0m\u001b[0m\n\u001b[0;32m--> 170\u001b[0;31m \u001b[0mevaluate_model\u001b[0m\u001b[0;34m(\u001b[0m\u001b[0mmodel\u001b[0m\u001b[0;34m,\u001b[0m \u001b[0mdata\u001b[0m\u001b[0;34m)\u001b[0m\u001b[0;34m\u001b[0m\u001b[0;34m\u001b[0m\u001b[0m\n\u001b[0m",
            "\u001b[0;32m<ipython-input-19-ea15142f0bdd>\u001b[0m in \u001b[0;36mevaluate_model\u001b[0;34m(model, data)\u001b[0m\n\u001b[1;32m     92\u001b[0m     \u001b[0;31m# For multiclass ROC, using .ravel() flattens all true/prob values into 1D arrays\u001b[0m\u001b[0;34m\u001b[0m\u001b[0;34m\u001b[0m\u001b[0m\n\u001b[1;32m     93\u001b[0m     \u001b[0;31m# This creates a 'micro-averaged' ROC curve, treating all (class, sample) pairs equally.\u001b[0m\u001b[0;34m\u001b[0m\u001b[0;34m\u001b[0m\u001b[0m\n\u001b[0;32m---> 94\u001b[0;31m     \u001b[0mfpr\u001b[0m\u001b[0;34m,\u001b[0m \u001b[0mtpr\u001b[0m\u001b[0;34m,\u001b[0m \u001b[0m_\u001b[0m \u001b[0;34m=\u001b[0m \u001b[0mroc_curve\u001b[0m\u001b[0;34m(\u001b[0m\u001b[0my_true_bin\u001b[0m\u001b[0;34m.\u001b[0m\u001b[0mravel\u001b[0m\u001b[0;34m(\u001b[0m\u001b[0;34m)\u001b[0m\u001b[0;34m,\u001b[0m \u001b[0my_probs\u001b[0m\u001b[0;34m.\u001b[0m\u001b[0mravel\u001b[0m\u001b[0;34m(\u001b[0m\u001b[0;34m)\u001b[0m\u001b[0;34m)\u001b[0m\u001b[0;34m\u001b[0m\u001b[0;34m\u001b[0m\u001b[0m\n\u001b[0m\u001b[1;32m     95\u001b[0m     \u001b[0mroc_auc\u001b[0m \u001b[0;34m=\u001b[0m \u001b[0mauc\u001b[0m\u001b[0;34m(\u001b[0m\u001b[0mfpr\u001b[0m\u001b[0;34m,\u001b[0m \u001b[0mtpr\u001b[0m\u001b[0;34m)\u001b[0m\u001b[0;34m\u001b[0m\u001b[0;34m\u001b[0m\u001b[0m\n\u001b[1;32m     96\u001b[0m \u001b[0;34m\u001b[0m\u001b[0m\n",
            "\u001b[0;31mNameError\u001b[0m: name 'roc_curve' is not defined"
          ]
        }
      ]
    },
    {
      "cell_type": "code",
      "source": [
        "import matplotlib.pyplot as plt\n",
        "from sklearn.metrics import roc_curve, auc\n",
        "import torch\n",
        "import torch.nn.functional as F\n",
        "\n",
        "def plot_roc_curve(model, data):\n",
        "    model.eval()\n",
        "    with torch.no_grad():\n",
        "        out = model(data.x, data.edge_index)\n",
        "        probs = F.softmax(out, dim=1)\n",
        "\n",
        "    test_mask = data.test_mask\n",
        "    y_true = data.y[test_mask].cpu().numpy()\n",
        "    y_probs = probs[test_mask].cpu().numpy()\n",
        "\n",
        "    # If binary classification: probs.shape[1] == 2\n",
        "    if y_probs.shape[1] == 2:\n",
        "        # Use probability for positive class (class 1)\n",
        "        y_scores = y_probs[:, 1]\n",
        "    else:\n",
        "        # If only one output neuron (rare for classification, but check)\n",
        "        y_scores = y_probs[:, 0]\n",
        "\n",
        "    # Compute ROC curve and AUC\n",
        "    fpr, tpr, _ = roc_curve(y_true, y_scores)\n",
        "    roc_auc = auc(fpr, tpr)\n",
        "\n",
        "    # Plot ROC curve\n",
        "    plt.figure(figsize=(8,6))\n",
        "    plt.plot(fpr, tpr, color='darkorange',\n",
        "             lw=2, label=f'ROC curve (area = {roc_auc:.4f})')\n",
        "    plt.plot([0,1], [0,1], color='navy', lw=1, linestyle='--')\n",
        "    plt.xlim([0.0,1.0])\n",
        "    plt.ylim([0.0,1.05])\n",
        "    plt.xlabel('False Positive Rate')\n",
        "    plt.ylabel('True Positive Rate')\n",
        "    plt.title('ROC Curve')\n",
        "    plt.legend(loc=\"lower right\")\n",
        "    plt.grid(True)\n",
        "    plt.show()\n",
        "\n",
        "# Call this:\n",
        "plot_roc_curve(model, data)\n"
      ],
      "metadata": {
        "colab": {
          "base_uri": "https://localhost:8080/",
          "height": 564
        },
        "id": "hvJH4ajUiw5c",
        "outputId": "7d2c2e9c-ff52-473e-8d6e-85ae59795c35"
      },
      "execution_count": null,
      "outputs": [
        {
          "output_type": "display_data",
          "data": {
            "text/plain": [
              "<Figure size 800x600 with 1 Axes>"
            ],
            "image/png": "[encoded data removed]"
          },
          "metadata": {}
        }
      ]
    }
  ]
}